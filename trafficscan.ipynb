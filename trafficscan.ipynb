{
 "cells": [
  {
   "cell_type": "code",
   "execution_count": 1,
   "id": "974f525e-dbb0-4bd4-a0e3-5597810d0633",
   "metadata": {},
   "outputs": [],
   "source": [
    "import cv2\n",
    "import numpy as np\n",
    "from pytube import YouTube\n",
    "import os\n",
    "import urllib.request\n",
    "from pytube.exceptions import VideoUnavailable\n",
    "from urllib.error import HTTPError"
   ]
  },
  {
   "cell_type": "code",
   "execution_count": 2,
   "id": "194c9a98-7251-4305-8e8b-7948f3e312c3",
   "metadata": {},
   "outputs": [],
   "source": [
    "# Output path directory\n",
    "output_path = './trafficsystem'\n"
   ]
  },
  {
   "cell_type": "code",
   "execution_count": 3,
   "id": "640bbcb9-05fc-4117-bd37-305af98297fd",
   "metadata": {},
   "outputs": [],
   "source": [
    "# Ensure the directory exists\n",
    "os.makedirs(output_path, exist_ok=True)"
   ]
  },
  {
   "cell_type": "code",
   "execution_count": 4,
   "id": "0c310ac2-ccb4-452e-b5c8-8dcb4a2332bc",
   "metadata": {},
   "outputs": [],
   "source": [
    "\n",
    "# Local path where the file will be saved\n",
    "haar_cascade_path = os.path.join(output_path, \"haarcascade_frontalface_default.xml\")"
   ]
  },
  {
   "cell_type": "code",
   "execution_count": 5,
   "id": "fba24bb0-e15b-4244-9569-fcfb77182177",
   "metadata": {},
   "outputs": [],
   "source": [
    "\n",
    "# URL of the haarcascade_frontalface_default.xml file\n",
    "url = \"https://raw.githubusercontent.com/opencv/opencv/master/data/haarcascades/haarcascade_frontalface_default.xml\"\n"
   ]
  },
  {
   "cell_type": "code",
   "execution_count": 6,
   "id": "daac2b20-268f-4595-9c16-f65eb5759d49",
   "metadata": {},
   "outputs": [
    {
     "name": "stdout",
     "output_type": "stream",
     "text": [
      "Downloaded haarcascade_frontalface_default.xml to ./trafficsystem/haarcascade_frontalface_default.xml\n"
     ]
    }
   ],
   "source": [
    "# Download the file\n",
    "urllib.request.urlretrieve(url, haar_cascade_path)\n",
    "print(f\"Downloaded haarcascade_frontalface_default.xml to {haar_cascade_path}\")"
   ]
  },
  {
   "cell_type": "code",
   "execution_count": 7,
   "id": "bea783fa-460a-49c5-b402-35a20e163608",
   "metadata": {},
   "outputs": [],
   "source": [
    "# Load YOLO\n",
    "def load_yolo(weights_path, config_path, classes_path):\n",
    "    net = cv2.dnn.readNet(weights_path, config_path)\n",
    "    with open(classes_path, \"r\") as f:\n",
    "        classes = [line.strip() for line in f.readlines()]\n",
    "    layer_names = net.getLayerNames()\n",
    "    try:\n",
    "        output_layers = [layer_names[i - 1] for i in net.getUnconnectedOutLayers().flatten()]\n",
    "    except AttributeError:  # for older versions of OpenCV that do not have flatten()\n",
    "        output_layers = [layer_names[i - 1] for i in net.getUnconnectedOutLayers()]\n",
    "    colors = np.random.uniform(0, 255, size=(len(classes), 3))\n",
    "    return net, classes, output_layers, colors\n",
    "\n",
    "def detect_objects(img, net, output_layers):\n",
    "    height, width, channels = img.shape\n",
    "    blob = cv2.dnn.blobFromImage(img, 0.00392, (416, 416), (0, 0, 0), True, crop=False)\n",
    "    net.setInput(blob)\n",
    "    outs = net.forward(output_layers)\n",
    "    class_ids = []\n",
    "    confidences = []\n",
    "    boxes = []\n",
    "    for out in outs:\n",
    "        for detection in out:\n",
    "            scores = detection[5:]\n",
    "            class_id = np.argmax(scores)\n",
    "            confidence = scores[class_id]\n",
    "            if confidence > 0.5:\n",
    "                center_x = int(detection[0] * width)\n",
    "                center_y = int(detection[1] * height)\n",
    "                w = int(detection[2] * width)\n",
    "                h = int(detection[3] * height)\n",
    "                x = int(center_x - w / 2)\n",
    "                y = int(center_y - h / 2)\n",
    "                boxes.append([x, y, w, h])\n",
    "                confidences.append(float(confidence))\n",
    "                class_ids.append(class_id)\n",
    "    indexes = cv2.dnn.NMSBoxes(boxes, confidences, 0.5, 0.4)\n",
    "    return boxes, confidences, class_ids, indexes\n"
   ]
  },
  {
   "cell_type": "code",
   "execution_count": 8,
   "id": "51c9699b-d08e-4530-8a88-f8511e73889c",
   "metadata": {},
   "outputs": [],
   "source": [
    "def draw_labels(boxes, confidences, class_ids, classes, colors, img, indexes):\n",
    "    for i in range(len(boxes)):\n",
    "        if i in indexes:\n",
    "            x, y, w, h = boxes[i]\n",
    "            label = str(classes[class_ids[i]])\n",
    "            color = colors[class_ids[i]]\n",
    "            cv2.rectangle(img, (x, y), (x + w, y + h), color, 2)\n",
    "            cv2.putText(img, label, (x, y - 5), cv2.FONT_HERSHEY_SIMPLEX, 0.5, color, 2)"
   ]
  },
  {
   "cell_type": "code",
   "execution_count": 9,
   "id": "680c26b8-0a94-4439-a6ee-c6bff8d0462d",
   "metadata": {},
   "outputs": [],
   "source": [
    "\n",
    "\n",
    "# Detect faces and save as PNG\n",
    "def detect_and_save_faces(frame, face_cascade, output_folder, frame_count):\n",
    "    gray = cv2.cvtColor(frame, cv2.COLOR_BGR2GRAY)\n",
    "    faces = face_cascade.detectMultiScale(gray, scaleFactor=1.1, minNeighbors=5, minSize=(30, 30))\n",
    "    for i, (x, y, w, h) in enumerate(faces):\n",
    "        face = frame[y:y+h, x:x+w]\n",
    "        face_filename = os.path.join(output_folder, f\"frame{frame_count}_face{i}.png\")\n",
    "        cv2.imwrite(face_filename, face)"
   ]
  },
  {
   "cell_type": "code",
   "execution_count": 10,
   "id": "27569948-507c-460e-81be-fa1e670ba5c8",
   "metadata": {},
   "outputs": [],
   "source": [
    "\n",
    "def process_video(video_path, weights_path, config_path, classes_path, face_cascade_path, output_folder):\n",
    "    net, classes, output_layers, colors = load_yolo(weights_path, config_path, classes_path)\n",
    "    cap = cv2.VideoCapture(video_path)\n",
    "    face_cascade = cv2.CascadeClassifier(face_cascade_path)\n",
    "    \n",
    "    if not cap.isOpened():\n",
    "        print(\"Error: Failed to open video file.\")\n",
    "        return\n",
    "\n",
    "    frame_count = 0\n",
    "    while True:\n",
    "        ret, frame = cap.read()\n",
    "        if not ret:\n",
    "            break\n",
    "\n",
    "        frame_count += 1\n",
    "\n",
    "        # Detect objects in the frame (YOLO)\n",
    "        boxes, confidences, class_ids, indexes = detect_objects(frame, net, output_layers)\n",
    "        draw_labels(boxes, confidences, class_ids, classes, colors, frame, indexes)\n",
    "\n",
    "        # Detect and save faces\n",
    "        detect_and_save_faces(frame, face_cascade, output_folder, frame_count)\n",
    "\n",
    "        cv2.imshow('Video Processing', frame)\n",
    "\n",
    "        # Press 'q' to exit\n",
    "        if cv2.waitKey(1) & 0xFF == ord('q'):\n",
    "            break\n",
    "\n",
    "    cap.release()\n",
    "    cv2.destroyAllWindows()\n"
   ]
  },
  {
   "cell_type": "code",
   "execution_count": 11,
   "id": "77dc0a33-ebfd-44c8-84cf-5de9c1fed72d",
   "metadata": {},
   "outputs": [],
   "source": [
    "\n",
    "def download_video(url, output_path):\n",
    "    try:\n",
    "        yt = YouTube(url)\n",
    "        stream = yt.streams.filter(file_extension='mp4').get_highest_resolution()\n",
    "        stream.download(output_path=output_path)\n",
    "        print(f\"Downloaded: {yt.title}\")\n",
    "        return os.path.join(output_path, stream.default_filename)\n",
    "    except VideoUnavailable:\n",
    "        print(f\"Video {url} is unavailable.\")\n",
    "    except HTTPError as e:\n",
    "        if e.code == 410:\n",
    "            print(f\"HTTP Error 410: The requested resource {url} is gone.\")\n",
    "        else:\n",
    "            print(f\"HTTP Error {e.code}: {e.reason}\")\n",
    "    except Exception as e:\n",
    "        print(f\"An error occurred: {e}\")"
   ]
  },
  {
   "cell_type": "code",
   "execution_count": null,
   "id": "2ac19e63-ad3e-4f8a-9e38-a70fc8f6793a",
   "metadata": {},
   "outputs": [],
   "source": [
    "face_output_folder"
   ]
  },
  {
   "cell_type": "code",
   "execution_count": 12,
   "id": "0875b668-9a52-4c29-92d3-d5df4f6fa4bf",
   "metadata": {},
   "outputs": [],
   "source": [
    "def main(video_url, weights_path, config_path, classes_path, face_cascade_path):\n",
    "    output_path = './downloaded_videos'\n",
    "    os.makedirs(output_path, exist_ok=True)\n",
    "   # video_path = download_video(video_url, output_path)\n",
    "    video_path = './video.mp4/1.mp4'\n",
    "    if video_path:\n",
    "        face_output_folder = os.path.join(output_path, \"faces\")\n",
    "        os.makedirs(face_output_folder, exist_ok=True)\n",
    "        process_video(video_path, weights_path, config_path, classes_path, face_cascade_path, face_output_folder)\n"
   ]
  },
  {
   "cell_type": "code",
   "execution_count": null,
   "id": "13126558-5766-4114-978b-4a0892b88946",
   "metadata": {},
   "outputs": [
    {
     "name": "stderr",
     "output_type": "stream",
     "text": [
      "2024-06-22 09:44:49.907 Python[29534:834821] WARNING: Secure coding is automatically enabled for restorable state! However, not on all supported macOS versions of this application. Opt-in to secure coding explicitly by implementing NSApplicationDelegate.applicationSupportsSecureRestorableState:.\n"
     ]
    }
   ],
   "source": [
    "if __name__ == \"__main__\":\n",
    "    video_url = 'https://www.youtube.com/watch?v=XufeJTJbAGY'  # Replace with your YouTube video URL\n",
    "    yolo_weights = 'yolov3.weights'  # Replace with your YOLO weights file\n",
    "    yolo_config = 'yolov3.cfg'  # Replace with your YOLO config file\n",
    "    yolo_classes = 'coco.names'  # Replace with your classes file\n",
    "    face_cascade = os.path.join(output_path, 'haarcascade_frontalface_default.xml')  # Path to Haar cascade for face detection\n",
    "    main(video_url, yolo_weights, yolo_config, yolo_classes, face_cascade)\n",
    "\n",
    "\n"
   ]
  },
  {
   "cell_type": "code",
   "execution_count": null,
   "id": "ce1b1502-8397-48d0-89df-ba3b127b89ba",
   "metadata": {},
   "outputs": [],
   "source": []
  }
 ],
 "metadata": {
  "kernelspec": {
   "display_name": "Python 3 (ipykernel)",
   "language": "python",
   "name": "python3"
  },
  "language_info": {
   "codemirror_mode": {
    "name": "ipython",
    "version": 3
   },
   "file_extension": ".py",
   "mimetype": "text/x-python",
   "name": "python",
   "nbconvert_exporter": "python",
   "pygments_lexer": "ipython3",
   "version": "3.9.6"
  }
 },
 "nbformat": 4,
 "nbformat_minor": 5
}
