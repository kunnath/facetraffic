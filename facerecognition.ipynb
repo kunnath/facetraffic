{
 "cells": [
  {
   "cell_type": "code",
   "execution_count": 2,
   "id": "4a1bdae2-9438-4519-af04-0b51cd34b5a9",
   "metadata": {},
   "outputs": [
    {
     "name": "stdout",
     "output_type": "stream",
     "text": [
      "Collecting face_recognition\n",
      "  Downloading face_recognition-1.3.0-py2.py3-none-any.whl.metadata (21 kB)\n",
      "Collecting face-recognition-models>=0.3.0 (from face_recognition)\n",
      "  Downloading face_recognition_models-0.3.0.tar.gz (100.1 MB)\n",
      "\u001b[2K     \u001b[90m━━━━━━━━━━━━━━━━━━━━━━━━━━━━━━━━━━━━━━\u001b[0m \u001b[32m100.1/100.1 MB\u001b[0m \u001b[31m20.3 MB/s\u001b[0m eta \u001b[36m0:00:00\u001b[0m00:01\u001b[0m00:01\u001b[0m\n",
      "\u001b[?25h  Preparing metadata (setup.py) ... \u001b[?25ldone\n",
      "\u001b[?25hRequirement already satisfied: Click>=6.0 in /Users/kunnath/Projects/myenv/lib/python3.9/site-packages (from face_recognition) (8.1.7)\n",
      "Requirement already satisfied: dlib>=19.7 in /Users/kunnath/Projects/myenv/lib/python3.9/site-packages (from face_recognition) (19.24.4)\n",
      "Requirement already satisfied: numpy in /Users/kunnath/Projects/myenv/lib/python3.9/site-packages (from face_recognition) (1.26.4)\n",
      "Requirement already satisfied: Pillow in /Users/kunnath/Projects/myenv/lib/python3.9/site-packages (from face_recognition) (10.3.0)\n",
      "Downloading face_recognition-1.3.0-py2.py3-none-any.whl (15 kB)\n",
      "Building wheels for collected packages: face-recognition-models\n",
      "  Building wheel for face-recognition-models (setup.py) ... \u001b[?25ldone\n",
      "\u001b[?25h  Created wheel for face-recognition-models: filename=face_recognition_models-0.3.0-py2.py3-none-any.whl size=100566162 sha256=94dcb0d3082902b8b8a5945acf5f3027ff63a8c4ee91aebcc06a23b2de849c19\n",
      "  Stored in directory: /Users/kunnath/Library/Caches/pip/wheels/22/a8/60/4a2aeb763d63f50190f4c4e07069a22245347eeafdb3a67551\n",
      "Successfully built face-recognition-models\n",
      "Installing collected packages: face-recognition-models, face_recognition\n",
      "Successfully installed face-recognition-models-0.3.0 face_recognition-1.3.0\n"
     ]
    }
   ],
   "source": [
    "!pip install face_recognition"
   ]
  },
  {
   "cell_type": "code",
   "execution_count": 3,
   "id": "944d9bdb-e1cf-4f8b-96a0-1a8b49766124",
   "metadata": {},
   "outputs": [],
   "source": [
    "import face_recognition\n",
    "import os\n",
    "import cv2"
   ]
  },
  {
   "cell_type": "code",
   "execution_count": 7,
   "id": "7602f37c-af92-4d0c-a764-d8a6ee2260ec",
   "metadata": {},
   "outputs": [],
   "source": [
    "\n",
    "# Path to the reference image\n",
    "reference_image_path = '/Users/kunnath/Projects/myenv/project/Kaggle/trafficsystem/downloaded_videos/faces/frame696_face1.png'\n",
    "\n",
    "# Path to the folder containing face images\n",
    "faces_folder = './downloaded_videos/faces'"
   ]
  },
  {
   "cell_type": "code",
   "execution_count": 5,
   "id": "6881c2da-dcee-4a8a-95da-710c8a9ca817",
   "metadata": {},
   "outputs": [],
   "source": [
    "# Load the reference image and get its face encodings\n",
    "reference_image = face_recognition.load_image_file(reference_image_path)\n",
    "reference_encodings = face_recognition.face_encodings(reference_image)[0]"
   ]
  },
  {
   "cell_type": "code",
   "execution_count": 8,
   "id": "b53bbb1f-10db-4329-8837-1b501ed79887",
   "metadata": {},
   "outputs": [
    {
     "name": "stdout",
     "output_type": "stream",
     "text": [
      "Match found: frame699_face0.png\n",
      "Match found: frame694_face0.png\n",
      "Match found: frame1637_face0.png\n",
      "Match found: frame1602_face1.png\n",
      "Match found: frame686_face1.png\n",
      "Match found: frame2741_face0.png\n",
      "Match found: frame692_face0.png\n",
      "Match found: frame698_face0.png\n",
      "Match found: frame2746_face1.png\n",
      "Match found: frame695_face1.png\n",
      "Match found: frame1636_face0.png\n",
      "Match found: frame2737_face0.png\n",
      "Match found: frame1341_face1.png\n",
      "Match found: frame693_face0.png\n",
      "Match found: frame4317_face0.png\n",
      "Match found: frame700_face0.png\n",
      "Match found: frame696_face1.png\n",
      "Match found: frame689_face0.png\n",
      "Match found: frame4311_face1.png\n",
      "Match found: frame690_face0.png\n",
      "Match found: frame4316_face0.png\n",
      "Match found: frame697_face0.png\n",
      "Match found: frame4310_face1.png\n",
      "Match found: frame4309_face2.png\n",
      "Match found: frame688_face0.png\n",
      "Match found: frame691_face0.png\n",
      "Face recognition complete.\n"
     ]
    }
   ],
   "source": [
    "# Iterate through each image in the faces folder\n",
    "for filename in os.listdir(faces_folder):\n",
    "    if filename.endswith('.png') or filename.endswith('.jpg') or filename.endswith('.jpeg'):\n",
    "        image_path = os.path.join(faces_folder, filename)\n",
    "\n",
    "        # Load the current face image and get its face encodings\n",
    "        current_image = face_recognition.load_image_file(image_path)\n",
    "        current_encodings_list = face_recognition.face_encodings(current_image)\n",
    "\n",
    "        # If no faces are found in the current image, skip it\n",
    "        if len(current_encodings_list) == 0:\n",
    "            continue\n",
    "\n",
    "        current_encodings = current_encodings_list[0]\n",
    "\n",
    "        # Compare the current face encodings with the reference face encodings\n",
    "        results = face_recognition.compare_faces([reference_encodings], current_encodings)\n",
    "\n",
    "        # Print the filename if there is a match\n",
    "        if results[0]:\n",
    "            print(f\"Match found: {filename}\")\n",
    "\n",
    "print(\"Face recognition complete.\")"
   ]
  },
  {
   "cell_type": "code",
   "execution_count": null,
   "id": "34776864-9dce-4ec9-a529-941d7f7d3a99",
   "metadata": {},
   "outputs": [],
   "source": []
  }
 ],
 "metadata": {
  "kernelspec": {
   "display_name": "Python 3 (ipykernel)",
   "language": "python",
   "name": "python3"
  },
  "language_info": {
   "codemirror_mode": {
    "name": "ipython",
    "version": 3
   },
   "file_extension": ".py",
   "mimetype": "text/x-python",
   "name": "python",
   "nbconvert_exporter": "python",
   "pygments_lexer": "ipython3",
   "version": "3.9.6"
  }
 },
 "nbformat": 4,
 "nbformat_minor": 5
}
